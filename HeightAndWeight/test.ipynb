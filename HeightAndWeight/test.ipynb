{
 "cells": [
  {
   "cell_type": "code",
   "execution_count": 2,
   "metadata": {},
   "outputs": [
    {
     "name": "stdout",
     "output_type": "stream",
     "text": [
      "[-0.34578025  0.01592596 -0.75437705  2.03074833  2.04715186  0.3984257\n",
      "  0.46486351 -1.29979442 -0.51094956  0.75115419]\n",
      "[ 1.14032706 -0.74649215  0.29524147  0.81577984  0.28788206 -1.51813338\n",
      "  0.384363   -0.47597172  0.01081974  1.63699707]\n",
      "[0 1 1 1 3 2 2 3 0 2]\n",
      "[[ 1.06981547  0.60738744]\n",
      " [-0.51203335  2.2619604 ]\n",
      " [-1.43172769  0.96450749]\n",
      " [ 0.14237206  0.89559531]]\n",
      "1.0698154680581253\n",
      "-0.5120333522622534\n",
      "-1.4317276885618546\n",
      "0.14237205693729077\n"
     ]
    },
    {
     "data": {
      "image/png": "[encoded data removed]",
      "text/plain": [
       "<Figure size 432x288 with 2 Axes>"
      ]
     },
     "metadata": {
      "needs_background": "light"
     },
     "output_type": "display_data"
    }
   ],
   "source": [
    "import numpy as np\n",
    "import matplotlib.pyplot as plt\n",
    "\n",
    "x = np.random.randn(10)\n",
    "y = np.random.randn(10)\n",
    "Cluster = np.array([0, 1, 1, 1, 3, 2, 2, 3, 0, 2]) # Labels of cluster 0 to 3\n",
    "print(x)\n",
    "print(y)\n",
    "print(Cluster)\n",
    "centers = np.random.randn(4, 2) \n",
    "print(centers)\n",
    "\n",
    "for i,j in centers:\n",
    "    print(i)\n",
    "fig = plt.figure()\n",
    "ax = fig.add_subplot(111)\n",
    "scatter = ax.scatter(x,y,c=Cluster,s=50)\n",
    "for i,j in centers:\n",
    "    ax.scatter(i,j,s=50,c='red',marker='+')\n",
    "ax.set_xlabel('x')\n",
    "ax.set_ylabel('y')\n",
    "plt.colorbar(scatter)\n",
    "\n",
    "fig.show()"
   ]
  },
  {
   "cell_type": "code",
   "execution_count": null,
   "metadata": {},
   "outputs": [],
   "source": []
  },
  {
   "cell_type": "code",
   "execution_count": null,
   "metadata": {},
   "outputs": [],
   "source": []
  }
 ],
 "metadata": {
  "kernelspec": {
   "display_name": "Python 3",
   "language": "python",
   "name": "python3"
  },
  "language_info": {
   "codemirror_mode": {
    "name": "ipython",
    "version": 3
   },
   "file_extension": ".py",
   "mimetype": "text/x-python",
   "name": "python",
   "nbconvert_exporter": "python",
   "pygments_lexer": "ipython3",
   "version": "3.6.7"
  }
 },
 "nbformat": 4,
 "nbformat_minor": 2
}
